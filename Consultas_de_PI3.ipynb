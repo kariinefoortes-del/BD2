{
  "nbformat": 4,
  "nbformat_minor": 0,
  "metadata": {
    "colab": {
      "provenance": [],
      "collapsed_sections": [
        "aUnXSFA9urpu"
      ]
    },
    "kernelspec": {
      "name": "python3",
      "display_name": "Python 3"
    },
    "language_info": {
      "name": "python"
    }
  },
  "cells": [
    {
      "cell_type": "markdown",
      "source": [
        "# Primeira parte do Trabalho Prático de BD2\n",
        "\n",
        "> REFERÊNCIA PRINCIPAL (material em construção): https://docs.google.com/presentation/d/1iIXPOhn2TSm5y5Rf5hiI46GTef1E2gKi/edit?usp=sharing&ouid=105327427325994478755&rtpof=true&sd=true\n",
        "\n",
        "\n",
        "Vamos juntar o que vocês já enviaram de PI3 com a atividade de revisão que fizemos algumas aulas atrás (link a seguir) <br>\n",
        "https://docs.google.com/document/d/1bXAUHBfzFwRp2Rsxn4-Afhm_yPm3Pz1DhQtp_CZz-JQ\n",
        "\n",
        "Crie um novo script do Google Colab, e comece definindo as funções de execução de queries que vimos nas últimas aulas. <br>\n",
        "↓ ↓ ↓ ↓ ↓ ↓ ↓ ↓ ↓ ↓ ↓ ↓ ↓ ↓ ↓ ↓ ↓ ↓ ↓ ↓ ↓ ↓ ↓ ↓ ↓ ↓ ↓ ↓ ↓ ↓\n"
      ],
      "metadata": {
        "id": "JUt2lU0uul4m"
      }
    },
    {
      "cell_type": "code",
      "source": [
        "import sqlite3\n",
        "from sqlite3 import Error\n",
        "\n",
        "## Função de alteração (insert, update, delete...)\n",
        "def execute_query(connection, query):\n",
        "    cursor = connection.cursor()\n",
        "    try:\n",
        "        cursor.execute(query)\n",
        "        connection.commit()\n",
        "        print(f\"Query {query.split('(')[0].strip()} executada.\")\n",
        "        if cursor.rowcount != -1: print(f\"{cursor.rowcount} linha(s) afetadas\")\n",
        "\n",
        "    except Error as e:\n",
        "        print(f\"Erro: '{e}'\")\n",
        "\n",
        "\n",
        "# Função de leitura de dados (select)\n",
        "def execute_read_query(connection, query):\n",
        "    cursor = connection.cursor()\n",
        "    result = None\n",
        "    try:\n",
        "        cursor.execute(query)\n",
        "        result = cursor.fetchall()\n",
        "\n",
        "        return result\n",
        "    except Error as e:\n",
        "        print(f\"Erro: '{e}'\")"
      ],
      "metadata": {
        "id": "DxUjW7ZjmKoa"
      },
      "execution_count": null,
      "outputs": []
    },
    {
      "cell_type": "markdown",
      "source": [
        "# Suas tabelas de PI3\n",
        "\n",
        "Abra a célula de código que corresponde à sua equipe de PI3, nela estará o SQL de criação de tabelas que foi enviado por vocês em atividades anteriores. Copie o código de execução para o seu script.\n"
      ],
      "metadata": {
        "id": "aUnXSFA9urpu"
      }
    },
    {
      "cell_type": "markdown",
      "source": [
        "## Campus Cine"
      ],
      "metadata": {
        "id": "YA50gjoXoIk5"
      }
    },
    {
      "cell_type": "code",
      "execution_count": null,
      "metadata": {
        "colab": {
          "base_uri": "https://localhost:8080/"
        },
        "id": "0XJ_CMNtmBnJ",
        "outputId": "e3136b11-91ce-41b3-c7c5-b594011ebe44"
      },
      "outputs": [
        {
          "output_type": "stream",
          "name": "stdout",
          "text": [
            "Query executada.\n",
            "Query executada.\n",
            "Query executada.\n",
            "Query executada.\n"
          ]
        }
      ],
      "source": [
        "## Criando conexão\n",
        "connection = sqlite3.connect(\"campus_cine.sqlite\")\n",
        "\n",
        "query = \"\"\"\n",
        "create table Cineclube (\n",
        "    ID_cineclube INTEGER PRIMARY KEY AUTOINCREMENT,\n",
        "    nome varchar(20) not null,\n",
        "    campusname varchar(50) not null,\n",
        "    data_inicio date not null,\n",
        "    nome_coordenador varchar(20) not null,\n",
        "    senha varchar(20) not null\n",
        ");\n",
        "\"\"\"\n",
        "execute_query(connection, query)\n",
        "\n",
        "query = \"\"\"\n",
        "create table Acoes (\n",
        "    ID_acao INTEGER PRIMARY KEY AUTOINCREMENT,\n",
        "    tipo TEXT CHECK( tipo IN ('divulgação', 'exibição', 'debate', 'diversificado') ) not null,\n",
        "    titulo varchar(50) not null,\n",
        "    data date not null,\n",
        "    hora_inicio time not null,\n",
        "    hora_fim time not null,\n",
        "    local varchar(75) not null\n",
        ");\n",
        "\"\"\"\n",
        "execute_query(connection, query)\n",
        "\n",
        "query = \"\"\"\n",
        "create table Usuario (\n",
        "    nome varchar(20) not null,\n",
        "    email varchar(50) primary key,\n",
        "    senha varchar(50) not null,\n",
        "    data_nascimento date not null,\n",
        "    cidade varchar(70) not null\n",
        ");\n",
        "\"\"\"\n",
        "execute_query(connection, query)\n",
        "\n",
        "query = \"\"\"\n",
        "create table Publico (\n",
        "    ID_publico INTEGER PRIMARY KEY AUTOINCREMENT,\n",
        "    email varchar(50),\n",
        "    Publico_externo boolean not null,\n",
        "    Publico_interno boolean not null,\n",
        "    foreign key (email) references usuario(email)\n",
        ");\n",
        "\"\"\"\n",
        "execute_query(connection, query)"
      ]
    },
    {
      "cell_type": "markdown",
      "source": [
        "## Mapeamento Cultural"
      ],
      "metadata": {
        "id": "HCrQ6LesoKvG"
      }
    },
    {
      "cell_type": "code",
      "source": [
        "## Criando conexão\n",
        "connection = sqlite3.connect(\"mapeamento_cultural.sqlite\")\n",
        "\n",
        "query = \"\"\"\n",
        "CREATE TABLE endereco (\n",
        "    id INTEGER PRIMARY KEY AUTOINCREMENT,\n",
        "    rua VARCHAR(100),\n",
        "    numero VARCHAR(10),\n",
        "    CEP VARCHAR(10),\n",
        "    regiao VARCHAR(50)\n",
        ");\n",
        "\"\"\"\n",
        "execute_query(connection, query)\n",
        "\n",
        "query = \"\"\"\n",
        "CREATE TABLE pontos_historicos (\n",
        "    id INTEGER PRIMARY KEY AUTOINCREMENT,\n",
        "    descricao TEXT,\n",
        "    endereco_id INT,\n",
        "    FOREIGN KEY (endereco_id) REFERENCES endereco(id)\n",
        ");\n",
        "\"\"\"\n",
        "execute_query(connection, query)\n",
        "\n",
        "query = \"\"\"\n",
        "CREATE TABLE grupo_cultural (\n",
        "    id INTEGER PRIMARY KEY AUTOINCREMENT,\n",
        "    nome VARCHAR(100),\n",
        "    descricao TEXT,\n",
        "    fotos TEXT,\n",
        "    contato VARCHAR(100)\n",
        ");\n",
        "\"\"\"\n",
        "execute_query(connection, query)\n",
        "\n",
        "query = \"\"\"\n",
        "CREATE TABLE evento (\n",
        "    id INTEGER PRIMARY KEY AUTOINCREMENT,\n",
        "    data DATE,\n",
        "    horario TIME,\n",
        "    local VARCHAR(100),\n",
        "    status VARCHAR(50),\n",
        "    url_ingresso VARCHAR(255)\n",
        ");\n",
        "\"\"\"\n",
        "execute_query(connection, query)\n",
        "\n",
        "query = \"\"\"\n",
        "CREATE TABLE localiza (\n",
        "    grupo_id INTEGER,\n",
        "    ponto_id INTEGER,\n",
        "    PRIMARY KEY (grupo_id, ponto_id),\n",
        "    FOREIGN KEY (grupo_id) REFERENCES grupo_cultural(id),\n",
        "    FOREIGN KEY (ponto_id) REFERENCES pontos_historicos(id)\n",
        ");\n",
        "\"\"\"\n",
        "execute_query(connection, query)\n",
        "\n",
        "query = \"\"\"\n",
        "CREATE TABLE apresenta (\n",
        "    grupo_id INTEGER,\n",
        "    evento_id INTEGER,\n",
        "    grupo_responsavel VARCHAR(100),\n",
        "    PRIMARY KEY (grupo_id, evento_id),\n",
        "    FOREIGN KEY (grupo_id) REFERENCES grupo_cultural(id),\n",
        "    FOREIGN KEY (evento_id) REFERENCES evento(id)\n",
        ");\n",
        "\"\"\"\n",
        "execute_query(connection, query)"
      ],
      "metadata": {
        "colab": {
          "base_uri": "https://localhost:8080/"
        },
        "id": "uA1kN5QqoF-1",
        "outputId": "97b501c4-acc2-44cf-db89-b262e19c73b8"
      },
      "execution_count": null,
      "outputs": [
        {
          "output_type": "stream",
          "name": "stdout",
          "text": [
            "Query executada.\n",
            "Query executada.\n",
            "Query executada.\n",
            "Query executada.\n",
            "Query executada.\n",
            "Query executada.\n"
          ]
        }
      ]
    },
    {
      "cell_type": "markdown",
      "source": [
        "## Atendimento NAE"
      ],
      "metadata": {
        "id": "XNPaGmdkpjNG"
      }
    },
    {
      "cell_type": "code",
      "source": [
        "## Criando conexão\n",
        "connection = sqlite3.connect(\"atendimento_nae.sqlite\")\n",
        "\n",
        "query = \"\"\"\n",
        "create table Profissional(\n",
        "\tnome varchar (100),\n",
        "  CPF varchar(14) primary key,\n",
        "  email varchar(50),\n",
        "  telefone varchar(15),\n",
        "  dataNasc date\n",
        ");\n",
        "\"\"\"\n",
        "execute_query(connection, query)\n",
        "\n",
        "query = \"\"\"\n",
        "create table Aluno(\n",
        "\tnome varchar(100),\n",
        "  RA char(7) primary key,\n",
        "  telefone varchar(15),\n",
        "  dataNasc date\n",
        ");\n",
        "\"\"\"\n",
        "execute_query(connection, query)\n",
        "\n",
        "query = \"\"\"\n",
        "create table Responsavel(\n",
        "\tnome varchar(100),\n",
        "  cpf varchar(14) primary key,\n",
        "  telefone varchar(15),\n",
        "  grauParentesco text\n",
        ");\n",
        "\"\"\"\n",
        "execute_query(connection, query)\n",
        "\n",
        "query = \"\"\"\n",
        "create table Prontuario(\n",
        "\tID integer primary key,\n",
        "\tdataProntuario date,\n",
        "  descricao text,\n",
        "  condicaoRestricao text\n",
        ");\n",
        "\"\"\"\n",
        "execute_query(connection, query)\n",
        "\n",
        "### Esse aqui precisa arrumar\n",
        "##### A chave primária de anexo é o ID do prontuário? Só pode ter um anexo por prontuário?\n",
        "# query = \"\"\"\n",
        "# create table Anexo(\n",
        "# \tIDProntuario integer primary key,\n",
        "#   arquivo text,\n",
        "#   constraint fk_Anexo foreign key (IDProntuario) references Prontuario(ID)\n",
        "# );\n",
        "# \"\"\"\n",
        "\n",
        "query = \"\"\"\n",
        "create table fazProntuario(\n",
        "\tCPFProfissional varchar(14),\n",
        "  RAaluno char(7),\n",
        "  IDprontuario int,\n",
        "\n",
        "  primary key (CPFProfissional, RAAluno, Idprontuario),\n",
        "  foreign key (CPFProfissional) references Profissional(CPF) on delete restrict,\n",
        "  foreign key (RAaluno) references Aluno(RA) on delete restrict,\n",
        "  foreign key (IDprontuario) references Prontuario(ID) on delete restrict\n",
        ");\n",
        "\"\"\"\n",
        "execute_query(connection, query)\n",
        "\n",
        "query = \"\"\"\n",
        "create table alunoPossuiResponsavel(\n",
        "\tRAAluno char(7),\n",
        "  cpfResponsavel varchar(14),\n",
        "\n",
        "  primary key (RAAluno, cpfResponsavel),\n",
        "  foreign key (RAAluno) references Aluno(RA) on delete restrict,\n",
        "  foreign key (cpfResponsavel) references Responsavel(cpf) on delete restrict\n",
        ");\n",
        "\"\"\"\n",
        "execute_query(connection, query)\n",
        "\n",
        "query = \"\"\"\n",
        "insert into Aluno (nome, RA, telefone, dataNasc) values\n",
        "('Rafael Felipe', 'A123456', '(11)91234-5678', '2006-03-15'),\n",
        "('Paulo Gabriel', 'A123457', '(11)92345-6789', '2005-08-22'),\n",
        "('Pedro Martins', 'A123458', '(11)93456-7890', '2006-01-10'),\n",
        "('Raul Miguel', 'A123459', '(11)94567-8901', '2005-12-05'),\n",
        "('Arthur Pacheco', 'A123460', '(11)95678-9012', '2006-07-19'),\n",
        "('Heros Pacheco', 'A123461', '(11)96789-0123', '2005-10-30'),\n",
        "('Daniel Borges', 'A123462', '(11)97890-1234', '2006-04-25'),\n",
        "('Yan Gabriel', 'A123463', '(11)98901-2345', '2005-09-14');\n",
        "\"\"\"\n",
        "execute_query(connection, query)\n",
        "\n",
        "query = \"\"\"\n",
        "insert into Profissional (nome, CPF, email, telefone, dataNasc) values\n",
        "('Thamara', '123.456.789-00', 'thamara@email.com', '(11)91234-5678', '1990-05-12'),\n",
        "('Listiane', '987.654.321-00', 'listiane@email.com', '(11)99876-5432', '1988-11-23');\n",
        "\"\"\"\n",
        "execute_query(connection, query)\n",
        "\n",
        "query = \"\"\"\n",
        "insert into Responsavel (nome, cpf, telefone, grauParentesco) values\n",
        "('Maria Silva', '111.222.333-44', '(11)91234-5678', 'Mãe'),\n",
        "('João Pereira', '555.666.777-88', '(11)98765-4321', 'Pai'),\n",
        "('Ana Costa', '999.888.777-66', '(11)99887-6655', 'Tia');\n",
        "\"\"\"\n",
        "execute_query(connection, query)\n",
        "\n",
        "query = \"\"\"\n",
        "insert into alunoPossuiResponsavel (RAAluno, cpfResponsavel) values\n",
        "('A123456', '111.222.333-44'),\n",
        "('A123457', '555.666.777-88'),\n",
        "('A123458', '999.888.777-66');\n",
        "\"\"\"\n",
        "execute_query(connection, query)\n",
        "\n",
        "query = \"\"\"\n",
        "insert into Prontuario (ID, dataProntuario, descricao, condicaoRestricao) values\n",
        "(1, '2025-06-01', 'Consulta inicial com avaliação psicológica', 'Nenhuma restrição'),\n",
        "(2, '2025-06-10', 'Sessão de acompanhamento para ansiedade', 'Evitar estresse excessivo'),\n",
        "(3, '2025-06-15', 'Avaliação para TDAH e planejamento terapêutico', 'Restrição ao uso de eletrônicos antes da consulta');\n",
        "\"\"\"\n",
        "execute_query(connection, query)\n",
        "\n",
        "query = \"\"\"\n",
        "insert into fazProntuario (CPFProfissional, RAaluno, IDprontuario) values\n",
        "('123.456.789-00', 'A123456', 1),\n",
        "('987.654.321-00', 'A123457', 2),\n",
        "('123.456.789-00', 'A123458', 3);\n",
        "\"\"\"\n",
        "execute_query(connection, query)\n",
        "\n",
        "### Fazer exemplo insert anexo"
      ],
      "metadata": {
        "colab": {
          "base_uri": "https://localhost:8080/"
        },
        "id": "TNtbvERgpi_H",
        "outputId": "1ba03705-7cde-4b6c-a829-fc032673247c"
      },
      "execution_count": null,
      "outputs": [
        {
          "output_type": "stream",
          "name": "stdout",
          "text": [
            "Query create table Profissional executada.\n",
            "Query create table Aluno executada.\n",
            "Query create table Responsavel executada.\n",
            "Query create table Prontuario executada.\n",
            "Query create table fazProntuario executada.\n",
            "Query create table alunoPossuiResponsavel executada.\n",
            "Query insert into Aluno executada.\n",
            "8 linha(s) afetadas\n",
            "Query insert into Profissional executada.\n",
            "2 linha(s) afetadas\n",
            "Query insert into Responsavel executada.\n",
            "3 linha(s) afetadas\n",
            "Query insert into alunoPossuiResponsavel executada.\n",
            "3 linha(s) afetadas\n",
            "Query insert into Prontuario executada.\n",
            "3 linha(s) afetadas\n",
            "Query insert into fazProntuario executada.\n",
            "3 linha(s) afetadas\n"
          ]
        }
      ]
    },
    {
      "cell_type": "markdown",
      "source": [
        "## Finanças"
      ],
      "metadata": {
        "id": "ZS3PEqVXserr"
      }
    },
    {
      "cell_type": "code",
      "source": [
        "connection = sqlite3.connect(\"financas.sqlite\")\n",
        "\n",
        "query = \"\"\"\n",
        "create table usuario(\n",
        "\tid_usuario integer primary key autoincrement,\n",
        "  nome varchar(100),\n",
        "  email varchar(100),\n",
        "  celular char(15),\n",
        "  senha varchar(100)\n",
        ");\n",
        "\"\"\"\n",
        "execute_query(connection, query)\n",
        "\n",
        "query = \"\"\"\n",
        "create table card(\n",
        "\tid_card integer primary key autoincrement,\n",
        "  descricao text,\n",
        "  resumo varchar (140),\n",
        "  titulo varchar(100)\n",
        ");\n",
        "\"\"\"\n",
        "execute_query(connection, query)\n",
        "\n",
        "query = \"\"\"\n",
        "create table avaliacao(\n",
        "\tid_avaliacao integer primary key autoincrement,\n",
        "  nota float,\n",
        "  comentario varchar(140),\n",
        "  dataAvaliacao date\n",
        ");\n",
        "\"\"\"\n",
        "execute_query(connection, query)\n",
        "\n",
        "query = \"\"\"\n",
        "create table vocabulario(\n",
        "\tid_vocabulario integer primary key autoincrement,\n",
        "  tituloVocabulario varchar(140)\n",
        ");\n",
        "\"\"\"\n",
        "execute_query(connection, query)\n",
        "\n",
        "# -- Relacionamento\n",
        "query = \"\"\"\n",
        "create table avaliar (\n",
        "    id_usuario integer,\n",
        "    id_avaliacao integer,\n",
        "    primary key (id_usuario, id_avaliacao),\n",
        "    foreign key (id_usuario) references Usuario(id_usuario),\n",
        "    foreign key (id_avaliacao) references Avaliacao(id_avaliacao)\n",
        ");\n",
        "\"\"\"\n",
        "execute_query(connection, query)\n",
        "\n",
        "query = \"\"\"\n",
        "create table visualizar (\n",
        "    id_usuario integer,\n",
        "    id_vocabulario integer,\n",
        "    primary key (id_usuario, id_vocabulario),\n",
        "    foreign key (id_usuario) references Usuario(id_usuario),\n",
        "    foreign key (id_vocabulario) references Vocabulario(id_vocabulario)\n",
        ");\n",
        "\"\"\"\n",
        "execute_query(connection, query)\n",
        "\n",
        "query = \"\"\"\n",
        "create table favoritar (\n",
        "    id_usuario integer,\n",
        "    id_card integer,\n",
        "    primary key (id_usuario, id_card),\n",
        "    foreign key (id_usuario) references Usuario(id_usuario),\n",
        "    foreign key (id_card) references Card(id_card)\n",
        ");\n",
        "\"\"\"\n",
        "execute_query(connection, query)"
      ],
      "metadata": {
        "colab": {
          "base_uri": "https://localhost:8080/"
        },
        "id": "96Wa_TtPseGK",
        "outputId": "777d6584-b980-483a-edb2-0619eb466e00"
      },
      "execution_count": null,
      "outputs": [
        {
          "output_type": "stream",
          "name": "stdout",
          "text": [
            "Query create table usuario executada.\n",
            "Query create table card executada.\n",
            "Query create table avaliacao executada.\n",
            "Query create table vocabulario executada.\n",
            "Query create table avaliar executada.\n",
            "Query create table visualizar executada.\n",
            "Query create table favoritar executada.\n"
          ]
        }
      ]
    },
    {
      "cell_type": "markdown",
      "source": [
        "## Prisma"
      ],
      "metadata": {
        "id": "zvzx3yzstWC5"
      }
    },
    {
      "cell_type": "code",
      "source": [
        "connection = sqlite3.connect(\"prisma.sqlite\")\n",
        "\n",
        "query = \"\"\"\n",
        "create Table Turma(\n",
        "  Codigo varchar(10) not null  primary key,\n",
        "  Curso varchar(20) not null,\n",
        "  Periodo int not null\n",
        ");\n",
        "\"\"\"\n",
        "execute_query(connection, query)\n",
        "\n",
        "query = \"\"\"\n",
        "create Table Aluno(\n",
        "  RA varchar(7) not null,\n",
        "  CodigoTurma varchar(10) not null,\n",
        "  Nome text not null,\n",
        "  DataNasc date not null,\n",
        "\n",
        "  primary key(RA, CodigoTurma),\n",
        "  foreign key(CodigoTurma) references Turma(Codigo) on delete restrict\n",
        ");\n",
        "\"\"\"\n",
        "execute_query(connection, query)\n",
        "\n",
        "query = \"\"\"\n",
        "create Table ContatoDoAluno(\n",
        "  RAAluno varchar(7) not null primary key,\n",
        "  contato text not null,\n",
        "\n",
        "  foreign key(RAAluno) references Aluno(RA) on delete cascade\n",
        ");\n",
        "\"\"\"\n",
        "execute_query(connection, query)\n",
        "\n",
        "query = \"\"\"\n",
        "create Table Professor(\n",
        "  ID varchar(8) not null primary key\n",
        ");\n",
        "\"\"\"\n",
        "execute_query(connection, query)\n",
        "\n",
        "query = \"\"\"\n",
        "create Table ContatoDoProfessor(\n",
        "  IDProfessor varchar(8) not null primary key,\n",
        "  contato text not null,\n",
        "\n",
        "  foreign key(IDProfessor) references Professor(ID) on delete cascade\n",
        ");\n",
        "\"\"\"\n",
        "execute_query(connection, query)\n",
        "\n",
        "query = \"\"\"\n",
        "create Table ProfessorLecionaEmTurma(\n",
        "  IDProfessor varchar(8) not null,\n",
        "  CodigoTurma varchar(10) not null,\n",
        "  Disciplina text not null,\n",
        "\n",
        "  primary key(IDProfessor, CodigoTurma),\n",
        "  foreign key(IDProfessor) references Professor(ID) on delete restrict,\n",
        "  foreign key(CodigoTurma) references Turma(Codigo) on delete restrict\n",
        ");\n",
        "\"\"\"\n",
        "execute_query(connection, query)\n",
        "\n",
        "query = \"\"\"\n",
        "create Table Questionario(\n",
        "  NumeroRef integer not null primary key autoincrement\n",
        ");\n",
        "\"\"\"\n",
        "execute_query(connection, query)\n",
        "\n",
        "query = \"\"\"\n",
        "create Table AlunoRespondeQuestionario(\n",
        "  RAAluno varchar(7) not null,\n",
        "  NumeroRefQuestionario integer not null,\n",
        "  DataResposta date not null,\n",
        "\n",
        "  primary key(RAAluno, NumeroRefQuestionario),\n",
        "  foreign key(RAAluno) references Aluno(RA) on delete cascade,\n",
        "  foreign key(NumeroRefQuestionario) references Questionario(NumeroRef) on delete restrict\n",
        ");\n",
        "\"\"\"\n",
        "execute_query(connection, query)\n",
        "\n",
        "query = \"INSERT INTO Turma(Codigo, Curso, Periodo) VALUES ('0123456789', 'Informatica','Primeiro Ano');\"\n",
        "execute_query(connection, query)\n",
        "\n",
        "query = \"INSERT INTO Aluno(RA, CodigoTurma, Nome, DataNasc) VALUES ('0123456', '0123456789', 'Maria Lúcia da Silva Rodrigues', '2006-09-17');\"\n",
        "execute_query(connection, query)\n",
        "\n",
        "query = \"INSERT INTO ContatoDoAluno(RAAluno, contato) VALUES ('0123456','nomedoaluno@gmail.com');\"\n",
        "execute_query(connection, query)\n",
        "\n",
        "query = \"INSERT INTO Professor(ID) VALUES ('6543210');\"\n",
        "execute_query(connection, query)\n",
        "\n",
        "query = \"INSERT INTO ContatoDoProfessor(IDProfessor, contato) VALUES ('6543210','nomeprofessor@gmail.com');\"\n",
        "execute_query(connection, query)\n",
        "\n",
        "query = \"INSERT INTO  ProfessorLecionaEmTurma(IDProfessor, CodigoTurma, Disciplina) VALUES ('6543210','0123456789', 'Banco de Dados');\"\n",
        "execute_query(connection, query)\n"
      ],
      "metadata": {
        "colab": {
          "base_uri": "https://localhost:8080/"
        },
        "id": "7w7mx7LstTBf",
        "outputId": "edcde845-9d01-4a88-a779-0b7cdc6b509a"
      },
      "execution_count": null,
      "outputs": [
        {
          "output_type": "stream",
          "name": "stdout",
          "text": [
            "Query create Table Turma executada.\n",
            "Query create Table Aluno executada.\n",
            "Query create Table ContatoDoAluno executada.\n",
            "Query create Table Professor executada.\n",
            "Query create Table ContatoDoProfessor executada.\n",
            "Query create Table ProfessorLecionaEmTurma executada.\n",
            "Query create Table Questionario executada.\n",
            "Query create Table AlunoRespondeQuestionario executada.\n",
            "Query INSERT INTO Turma executada.\n",
            "1 linha(s) afetadas\n",
            "Query INSERT INTO Aluno executada.\n",
            "1 linha(s) afetadas\n",
            "Query INSERT INTO ContatoDoAluno executada.\n",
            "1 linha(s) afetadas\n",
            "Query INSERT INTO Professor executada.\n",
            "1 linha(s) afetadas\n",
            "Query INSERT INTO ContatoDoProfessor executada.\n",
            "1 linha(s) afetadas\n",
            "Query INSERT INTO  ProfessorLecionaEmTurma executada.\n",
            "1 linha(s) afetadas\n"
          ]
        }
      ]
    },
    {
      "cell_type": "markdown",
      "source": [
        "# Atividades\n",
        "\n",
        "Para cada atividade a seguir, copie para o seu script as células de texto e de código indicadas, e altere o que for pedido na questão.\n",
        "\n",
        "Você pode acessar o material de apoio para relemebrar os conceitos de consultas com SQL: <br>\n",
        "https://docs.google.com/presentation/d/1iIXPOhn2TSm5y5Rf5hiI46GTef1E2gKi"
      ],
      "metadata": {
        "id": "PnBrJmTmwOp0"
      }
    },
    {
      "cell_type": "markdown",
      "source": [
        "## Atividade 01\n",
        "Crie duas consultas relevantes para sua aplicação em PI3 que tenham, pelo menos, uma função de agregação em cada. Para cada consulta, descreva a ação esperada (ex.: contar participantes em um evento) e justifique o contexto na aplicação de PI3 (ex.: funcionalidade do back-end para checar se já atingiu o limite de vagas do evento).\n"
      ],
      "metadata": {
        "id": "SKMrDb_QwdUH"
      }
    },
    {
      "cell_type": "markdown",
      "source": [
        "**-- EDITE ESSA CÉLULA --**\n",
        "\n",
        "**CONSULTA 1**\n",
        "\n",
        "* **Objetivo da consulta (contexto de PI3): ESCREVA**\n",
        "* **Descrição da ação esperada ao rodar a consulta: ESCREVA**\n"
      ],
      "metadata": {
        "id": "f03Jd780wpd-"
      }
    },
    {
      "cell_type": "code",
      "source": [
        "## ESCREVA AQUI O SELECT 1"
      ],
      "metadata": {
        "id": "n8ISZ5g0wOKJ"
      },
      "execution_count": null,
      "outputs": []
    },
    {
      "cell_type": "markdown",
      "source": [
        "**-- EDITE ESSA CÉLULA --**\n",
        "\n",
        "**CONSULTA 2**\n",
        "\n",
        "* **Objetivo da consulta (contexto de PI3): ESCREVA**\n",
        "* **Descrição da ação esperada ao rodar a consulta: ESCREVA**"
      ],
      "metadata": {
        "id": "lzh07KY_xDSB"
      }
    },
    {
      "cell_type": "code",
      "source": [
        "## ESCREVA AQUI A CONSULTA 2"
      ],
      "metadata": {
        "id": "tcbAYU9_xFiK"
      },
      "execution_count": null,
      "outputs": []
    },
    {
      "cell_type": "markdown",
      "source": [
        "## Atividade 02\n",
        "\n",
        "Crie uma consulta relevante para sua aplicação em PI3 que envolva três entidades distintas. Descreva a ação esperada e justifique o contexto na aplicação de PI3."
      ],
      "metadata": {
        "id": "o6LSKtCBwjXx"
      }
    },
    {
      "cell_type": "markdown",
      "source": [
        "**-- EDITE ESSA CÉLULA --**\n",
        "\n",
        "**CONSULTA COM 3 ENTIDADES**\n",
        "\n",
        "* **Objetivo da consulta (contexto de PI3): ESCREVA**\n",
        "* **Descrição da ação esperada ao rodar a consulta: ESCREVA**"
      ],
      "metadata": {
        "id": "V5Zkigy5xN-k"
      }
    },
    {
      "cell_type": "code",
      "source": [
        "## ESCREVA AQUI A CONSULTA COM 3 ENTIDADES"
      ],
      "metadata": {
        "id": "U1vfiMkmwk2a"
      },
      "execution_count": null,
      "outputs": []
    },
    {
      "cell_type": "markdown",
      "source": [
        "## Atividade 03\n",
        "\n",
        "Crie uma view relevante para sua aplicação em PI3. Descreva a ação esperada na consulta dentro de sua view e, ao justificar o contexto, informe também por que a ação é tão recorrente no seu PI3 a ponto de precisar de uma view."
      ],
      "metadata": {
        "id": "jgGt6uAHwlNW"
      }
    },
    {
      "cell_type": "markdown",
      "source": [
        "**-- EDITE ESSA CÉLULA --**\n",
        "\n",
        "* **Justificativa para que a consulta seja uma View (Contexto de PI3): ESCREVA**\n",
        "* **Descrição da ação esperada ao rodar a consulta: ESCREVA**"
      ],
      "metadata": {
        "id": "A54zABNgYZLy"
      }
    },
    {
      "cell_type": "code",
      "source": [
        "## ESCREVA ABAIXO A VIEW\n",
        "\n",
        "## ESCREVA ABAIXO O SELECT QUE RETORNA TODOS OS ELEMENTOS DA VIEW"
      ],
      "metadata": {
        "id": "SmJjzLmMwmDU"
      },
      "execution_count": null,
      "outputs": []
    },
    {
      "cell_type": "markdown",
      "source": [
        "## Atividade 04\n",
        "\n",
        "Crie um procedure relevante para sua aplicação em PI3. Descreva a ação esperada ao executar a procedure e, ao justificar o contexto, explique por que essa ação é tão recorrente no seu PI3 a ponto de precisar de uma procedure."
      ],
      "metadata": {
        "id": "ck-OOKFqX3jr"
      }
    },
    {
      "cell_type": "markdown",
      "source": [
        "**-- EDITE ESSA CÉLULA --**\n",
        "\n",
        "* **Justificativa para que a operação seja um Procedure (Contexto de PI3): ESCREVA**\n",
        "* **Descrição da ação esperada ao executar o procedure: ESCREVA**"
      ],
      "metadata": {
        "id": "pKbkLO5rY_4O"
      }
    },
    {
      "cell_type": "code",
      "source": [
        "## ESCREVA ABAIXO O PROCEDURE\n",
        "\n",
        "## ESCREVA ABAIXO UMA EXECUÇÃO DA PROCEDURE"
      ],
      "metadata": {
        "id": "AWUB8s8lX32j"
      },
      "execution_count": null,
      "outputs": []
    },
    {
      "cell_type": "markdown",
      "source": [
        "## Atividade 05\n",
        "\n",
        "Crie uma function relevante para sua aplicação em PI3.\n",
        "Descreva o valor esperado como retorno ao executar a function e, ao justificar o contexto, explique por que é importante ter essa lógica encapsulada para uso recorrente no seu PI3."
      ],
      "metadata": {
        "id": "pG51BlDpYCEk"
      }
    },
    {
      "cell_type": "markdown",
      "source": [
        "**-- EDITE ESSA CÉLULA --**\n",
        "\n",
        "* **Justificativa para que a operação seja uma Function (Contexto de PI3): ESCREVA**\n",
        "* **Descrição da operação realizada e valor retornado pela Function: ESCREVA**"
      ],
      "metadata": {
        "id": "ML5cKIBjZIpm"
      }
    },
    {
      "cell_type": "code",
      "source": [
        "## ESCREVA ABAIXO A FUNCTION\n",
        "\n",
        "## ESCREVA ABAIXO UMA CONSULTA QUE INCLUI A FUNCTION"
      ],
      "metadata": {
        "id": "n_iddDu3YC4p"
      },
      "execution_count": null,
      "outputs": []
    },
    {
      "cell_type": "markdown",
      "source": [
        "## Atividade 06\n",
        "\n",
        "Crie um trigger relevante para sua aplicação em PI3.\n",
        "Descreva o evento que aciona o trigger e, ao justificar o contexto, explique por que essa automação é necessária para manter a integridade ou eficiência do seu PI3."
      ],
      "metadata": {
        "id": "T1_XfegLYDQp"
      }
    },
    {
      "cell_type": "markdown",
      "source": [
        "**-- EDITE ESSA CÉLULA --**\n",
        "\n",
        "* **Justificativa para que a operação seja um Trigger (Contexto de PI3): ESCREVA**\n",
        "* **Descrição do evento que dispara o Trigger e das operações que ele executa: ESCREVA**"
      ],
      "metadata": {
        "id": "EvW8hZdMZZnN"
      }
    },
    {
      "cell_type": "code",
      "source": [
        "## ESCREVA ABAIXO O TRIGGER\n",
        "\n",
        "## ESCREVA ABAIXO UM COMANDO SQL QUE DISPARA O TRIGGER"
      ],
      "metadata": {
        "id": "6l3w10PEYDgb"
      },
      "execution_count": null,
      "outputs": []
    }
  ]
}